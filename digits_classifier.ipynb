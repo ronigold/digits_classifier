{
 "cells": [
  {
   "cell_type": "code",
   "execution_count": 26,
   "metadata": {
    "Collapsed": "false"
   },
   "outputs": [],
   "source": [
    "from IPython.display import Markdown, Latex\n",
    "from IPython.display import clear_output\n",
    "from torchvision import transforms\n",
    "import pickle5 as pickle\n",
    "import os\n",
    "from fastai.vision.all import *\n",
    "from fastai.vision.widgets import *\n",
    "import warnings\n",
    "warnings.filterwarnings('ignore')"
   ]
  },
  {
   "cell_type": "markdown",
   "metadata": {
    "Collapsed": "false"
   },
   "source": [
    "# The '3' or '7' Classifier"
   ]
  },
  {
   "cell_type": "markdown",
   "metadata": {
    "Collapsed": "false"
   },
   "source": [
    "### When was the last time you saw a digit and wondered if it was seven or three?"
   ]
  },
  {
   "cell_type": "markdown",
   "metadata": {
    "Collapsed": "false"
   },
   "source": [
    "\n",
    "From today you do not have to hesitate. Artificial intelligence will decide for you!\n"
   ]
  },
  {
   "cell_type": "markdown",
   "metadata": {
    "Collapsed": "false"
   },
   "source": [
    "#### The project is based on two different models trained on the same image database.\n",
    "\n",
    "The images were downloaded from a mnist dataset. 6500 photos per group.\n",
    "\n",
    "\n",
    "\n",
    "\n",
    "The first model is a network of neurons (cnn)\n",
    "\n",
    "The second model is an average per-pixel based Heuristic model:"
   ]
  },
  {
   "cell_type": "markdown",
   "metadata": {
    "Collapsed": "false"
   },
   "source": [
    "Try it now!"
   ]
  },
  {
   "cell_type": "code",
   "execution_count": 18,
   "metadata": {
    "Collapsed": "false"
   },
   "outputs": [],
   "source": [
    "#for windows:\n",
    "#import pathlib\n",
    "#temp = pathlib.PosixPath\n",
    "#pathlib.PosixPath = pathlib.WindowsPath"
   ]
  },
  {
   "cell_type": "code",
   "execution_count": 27,
   "metadata": {},
   "outputs": [],
   "source": [
    "class ABMClassifier:\n",
    "    \n",
    "    def __init__(self):\n",
    "        \n",
    "        self.average_class_a = None\n",
    "        self.average_class_b = None\n",
    "        self.class_a = None\n",
    "        self.class_b = None\n",
    "        \n",
    "    def fit(self, data_class_a, data_class_b, class_a, class_b):\n",
    "    \n",
    "        self.average_class_a = data_class_a.mean(0)\n",
    "        self.average_class_b = data_class_b.mean(0)\n",
    "        self.class_a = class_a\n",
    "        self.class_b = class_b\n",
    "        \n",
    "    def predict(self, img):\n",
    "        \n",
    "        def softmax(x):\n",
    "            e_x = np.exp(x - np.max(x))\n",
    "            return e_x / e_x.sum()\n",
    "        \n",
    "        img = img.convert('L')\n",
    "        image_tensor = transforms.ToTensor()(img.resize((28, 28), Image.NEAREST)).mean(0)\n",
    "        probs = softmax([F.mse_loss(image_tensor.float(),self.average_class_a).item(), F.mse_loss(image_tensor.float(),self.average_class_b).item()])\n",
    "        return self.class_a if probs[0] < probs[1] else self.class_b, 0 if probs[0] < probs[1] else 1, 1-probs"
   ]
  },
  {
   "cell_type": "code",
   "execution_count": 21,
   "metadata": {
    "Collapsed": "false"
   },
   "outputs": [],
   "source": [
    "path = Path()\n",
    "learn_inf = load_learner(path/'export.pkl', cpu=True)\n",
    "\n",
    "btn_upload = widgets.FileUpload()\n",
    "out_pl = widgets.Output()\n",
    "lbl_pred = widgets.Label()\n",
    "out = Output()"
   ]
  },
  {
   "cell_type": "code",
   "execution_count": null,
   "metadata": {},
   "outputs": [],
   "source": [
    "#with open('export2.pkl', \"rb\") as fh:\n",
    "#    learn_inf2 = pickle.load(fh)"
   ]
  },
  {
   "cell_type": "code",
   "execution_count": 22,
   "metadata": {
    "Collapsed": "false"
   },
   "outputs": [],
   "source": [
    "def on_data_change(change):\n",
    "    with open('export2.pkl', \"rb\") as fh:\n",
    "        learn_inf2 = pickle.load(fh)"
   ]
  },
  {
   "cell_type": "code",
   "execution_count": 23,
   "metadata": {
    "Collapsed": "false"
   },
   "outputs": [],
   "source": [
    "btn_upload.observe(on_data_change, names=['data'])"
   ]
  },
  {
   "cell_type": "code",
   "execution_count": 25,
   "metadata": {
    "Collapsed": "false"
   },
   "outputs": [],
   "source": [
    "display(VBox([widgets.Label('Select img'), btn_upload, out_pl, lbl_pred]))"
   ]
  },
  {
   "cell_type": "markdown",
   "metadata": {
    "Collapsed": "false"
   },
   "source": [
    "##### The project was created for artificial intelligence Course Supervised by Dr. Tammar Shrot\n",
    "\n",
    "- Roni Goldsmid\n",
    "- Maor Yatskan"
   ]
  }
 ],
 "metadata": {
  "jupytext": {
   "split_at_heading": true,
   "text_representation": {
    "extension": ".py",
    "format_name": "light",
    "format_version": "1.5",
    "jupytext_version": "1.4.1"
   }
  },
  "kernelspec": {
   "display_name": "Python 3",
   "language": "python",
   "name": "python3"
  },
  "language_info": {
   "codemirror_mode": {
    "name": "ipython",
    "version": 3
   },
   "file_extension": ".py",
   "mimetype": "text/x-python",
   "name": "python",
   "nbconvert_exporter": "python",
   "pygments_lexer": "ipython3",
   "version": "3.7.5"
  },
  "toc": {
   "base_numbering": 1,
   "nav_menu": {},
   "number_sections": false,
   "sideBar": true,
   "skip_h1_title": true,
   "title_cell": "Table of Contents",
   "title_sidebar": "Contents",
   "toc_cell": false,
   "toc_position": {},
   "toc_section_display": true,
   "toc_window_display": false
  }
 },
 "nbformat": 4,
 "nbformat_minor": 4
}
